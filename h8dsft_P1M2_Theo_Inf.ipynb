{
 "cells": [
  {
   "cell_type": "code",
   "execution_count": 183,
   "metadata": {},
   "outputs": [],
   "source": [
    "# Import library\n",
    "\n",
    "import pandas as pd\n",
    "import numpy as np\n",
    "import pickle\n",
    "import json"
   ]
  },
  {
   "cell_type": "code",
   "execution_count": 184,
   "metadata": {},
   "outputs": [],
   "source": [
    "# Load all files\n",
    "\n",
    "with open('list_num_cols.txt', 'r') as file_1:\n",
    "  list_num_cols = json.load(file_1)\n",
    "\n",
    "with open('list_cat_cols_1.txt', 'r') as file_2:\n",
    "  list_cat_cols_1 = json.load(file_2)\n",
    "  \n",
    "with open('list_cat_cols_2.txt', 'r') as file_3:\n",
    "  list_cat_cols_2 = json.load(file_3)\n",
    "  \n",
    "with open('list_cat_cols_3.txt', 'r') as file_4:\n",
    "  list_cat_cols_3 = json.load(file_4)\n",
    "\n",
    "with open('model_scaler.pkl', 'rb') as file_5:\n",
    "  scaler = pickle.load(file_5)\n",
    "\n",
    "with open('model_encoder_1.pkl', 'rb') as file_6:\n",
    "  OHE_1 = pickle.load(file_6)\n",
    "  \n",
    "with open('model_encoder_2.pkl', 'rb') as file_7:\n",
    "  OHE_2 = pickle.load(file_7)\n",
    "  \n",
    "with open('model_encoder_3.pkl', 'rb') as file_8:\n",
    "  OHE_3 = pickle.load(file_8)\n",
    "\n",
    "with open('model_logreg.pkl', 'rb') as file_9:\n",
    "  model_logreg = pickle.load(file_9)\n",
    "  \n",
    "with open('model_dtc.pkl', 'rb') as file_10:\n",
    "  model_dtc = pickle.load(file_10)\n",
    "\n",
    "with open('model_rfc.pkl', 'rb') as file_11:\n",
    "  model_rfc = pickle.load(file_11)\n",
    "  \n",
    "with open('model_gbc.pkl', 'rb') as file_12:\n",
    "  model_gbc = pickle.load(file_12)"
   ]
  },
  {
   "cell_type": "code",
   "execution_count": 185,
   "metadata": {},
   "outputs": [
    {
     "data": {
      "text/html": [
       "<div>\n",
       "<style scoped>\n",
       "    .dataframe tbody tr th:only-of-type {\n",
       "        vertical-align: middle;\n",
       "    }\n",
       "\n",
       "    .dataframe tbody tr th {\n",
       "        vertical-align: top;\n",
       "    }\n",
       "\n",
       "    .dataframe thead th {\n",
       "        text-align: right;\n",
       "    }\n",
       "</style>\n",
       "<table border=\"1\" class=\"dataframe\">\n",
       "  <thead>\n",
       "    <tr style=\"text-align: right;\">\n",
       "      <th></th>\n",
       "      <th>cc_num</th>\n",
       "      <th>merchant</th>\n",
       "      <th>category</th>\n",
       "      <th>amt</th>\n",
       "      <th>first</th>\n",
       "      <th>last</th>\n",
       "      <th>gender</th>\n",
       "      <th>street</th>\n",
       "      <th>city</th>\n",
       "      <th>state</th>\n",
       "      <th>zip</th>\n",
       "      <th>city_pop</th>\n",
       "      <th>job</th>\n",
       "      <th>dob</th>\n",
       "    </tr>\n",
       "  </thead>\n",
       "  <tbody>\n",
       "    <tr>\n",
       "      <th>0</th>\n",
       "      <td>30344654314976</td>\n",
       "      <td>fraud_Larkin, Stracke and Greenfelder</td>\n",
       "      <td>entertainment</td>\n",
       "      <td>46</td>\n",
       "      <td>Theo</td>\n",
       "      <td>Nugraha</td>\n",
       "      <td>M</td>\n",
       "      <td>Temanggung</td>\n",
       "      <td>Temanggung</td>\n",
       "      <td>ID</td>\n",
       "      <td>56225</td>\n",
       "      <td>1725</td>\n",
       "      <td>Programmer</td>\n",
       "      <td>1991-09-09</td>\n",
       "    </tr>\n",
       "  </tbody>\n",
       "</table>\n",
       "</div>"
      ],
      "text/plain": [
       "           cc_num                               merchant       category  amt  \\\n",
       "0  30344654314976  fraud_Larkin, Stracke and Greenfelder  entertainment   46   \n",
       "\n",
       "  first     last gender      street        city state    zip  city_pop  \\\n",
       "0  Theo  Nugraha      M  Temanggung  Temanggung    ID  56225      1725   \n",
       "\n",
       "          job         dob  \n",
       "0  Programmer  1991-09-09  "
      ]
     },
     "execution_count": 185,
     "metadata": {},
     "output_type": "execute_result"
    }
   ],
   "source": [
    "#Create new data\n",
    "\n",
    "data_inf = pd.DataFrame({\n",
    "    'cc_num'      : [30344654314976],\n",
    "    'merchant'    : ['fraud_Larkin, Stracke and Greenfelder'],\n",
    "    'category'    : ['entertainment'],\n",
    "    'amt'         : [46],\n",
    "    'first'       : ['Theo'],\n",
    "    'last'        : ['Nugraha'],\n",
    "    'gender'      : ['M'],\n",
    "    'street'      : ['Temanggung'],\n",
    "    'city'        : ['Temanggung'],\n",
    "    'state'       : ['ID'],\n",
    "    'zip'         : [56225],\n",
    "    'city_pop'    : [1725],\n",
    "    'job'         : ['Programmer'],\n",
    "    'dob'         : ['1991-09-09']\n",
    "})\n",
    "\n",
    "#data_inf = pd.DataFrame([data_inf])\n",
    "data_inf"
   ]
  },
  {
   "cell_type": "code",
   "execution_count": 186,
   "metadata": {},
   "outputs": [],
   "source": [
    "# Split between numerical columns and categorical columns\n",
    "\n",
    "data_inf_num   = data_inf[list_num_cols]\n",
    "data_inf_cat_1 = data_inf[list_cat_cols_1]\n",
    "data_inf_cat_2 = data_inf[list_cat_cols_2]\n",
    "data_inf_cat_3 = data_inf[list_cat_cols_3]"
   ]
  },
  {
   "cell_type": "code",
   "execution_count": 187,
   "metadata": {},
   "outputs": [],
   "source": [
    "# Feature scaling and feature encoding\n",
    "\n",
    "data_inf_num_scaled    = scaler.transform(data_inf_num)\n",
    "data_inf_cat_encoded_1 = OHE_1.transform(data_inf_cat_1)\n",
    "data_inf_cat_encoded_2 = OHE_2.transform(data_inf_cat_2)\n",
    "data_inf_cat_encoded_3 = OHE_3.transform(data_inf_cat_3)\n",
    "\n",
    "data_inf_final = np.concatenate([data_inf_num_scaled, data_inf_cat_encoded_1, data_inf_cat_encoded_2, data_inf_cat_encoded_3], axis = 1)"
   ]
  },
  {
   "cell_type": "code",
   "execution_count": 188,
   "metadata": {},
   "outputs": [
    {
     "data": {
      "text/html": [
       "<div>\n",
       "<style scoped>\n",
       "    .dataframe tbody tr th:only-of-type {\n",
       "        vertical-align: middle;\n",
       "    }\n",
       "\n",
       "    .dataframe tbody tr th {\n",
       "        vertical-align: top;\n",
       "    }\n",
       "\n",
       "    .dataframe thead th {\n",
       "        text-align: right;\n",
       "    }\n",
       "</style>\n",
       "<table border=\"1\" class=\"dataframe\">\n",
       "  <thead>\n",
       "    <tr style=\"text-align: right;\">\n",
       "      <th></th>\n",
       "      <th>0</th>\n",
       "    </tr>\n",
       "  </thead>\n",
       "  <tbody>\n",
       "    <tr>\n",
       "      <th>0</th>\n",
       "      <td>1</td>\n",
       "    </tr>\n",
       "  </tbody>\n",
       "</table>\n",
       "</div>"
      ],
      "text/plain": [
       "   0\n",
       "0  1"
      ]
     },
     "execution_count": 188,
     "metadata": {},
     "output_type": "execute_result"
    }
   ],
   "source": [
    "# Predict using Logistic Regression, \n",
    "\n",
    "y_pred_inf_logreg = pd.DataFrame(model_logreg.predict(data_inf_final))\n",
    "y_pred_inf_logreg\n"
   ]
  },
  {
   "cell_type": "code",
   "execution_count": 189,
   "metadata": {},
   "outputs": [
    {
     "data": {
      "text/html": [
       "<div>\n",
       "<style scoped>\n",
       "    .dataframe tbody tr th:only-of-type {\n",
       "        vertical-align: middle;\n",
       "    }\n",
       "\n",
       "    .dataframe tbody tr th {\n",
       "        vertical-align: top;\n",
       "    }\n",
       "\n",
       "    .dataframe thead th {\n",
       "        text-align: right;\n",
       "    }\n",
       "</style>\n",
       "<table border=\"1\" class=\"dataframe\">\n",
       "  <thead>\n",
       "    <tr style=\"text-align: right;\">\n",
       "      <th></th>\n",
       "      <th>0</th>\n",
       "    </tr>\n",
       "  </thead>\n",
       "  <tbody>\n",
       "    <tr>\n",
       "      <th>0</th>\n",
       "      <td>1</td>\n",
       "    </tr>\n",
       "  </tbody>\n",
       "</table>\n",
       "</div>"
      ],
      "text/plain": [
       "   0\n",
       "0  1"
      ]
     },
     "execution_count": 189,
     "metadata": {},
     "output_type": "execute_result"
    }
   ],
   "source": [
    "# Predict using Decision Tree Classifier, \n",
    "\n",
    "y_pred_inf_dtc = pd.DataFrame(model_dtc.predict(data_inf_final))\n",
    "y_pred_inf_dtc\n"
   ]
  },
  {
   "cell_type": "code",
   "execution_count": 190,
   "metadata": {},
   "outputs": [
    {
     "data": {
      "text/html": [
       "<div>\n",
       "<style scoped>\n",
       "    .dataframe tbody tr th:only-of-type {\n",
       "        vertical-align: middle;\n",
       "    }\n",
       "\n",
       "    .dataframe tbody tr th {\n",
       "        vertical-align: top;\n",
       "    }\n",
       "\n",
       "    .dataframe thead th {\n",
       "        text-align: right;\n",
       "    }\n",
       "</style>\n",
       "<table border=\"1\" class=\"dataframe\">\n",
       "  <thead>\n",
       "    <tr style=\"text-align: right;\">\n",
       "      <th></th>\n",
       "      <th>0</th>\n",
       "    </tr>\n",
       "  </thead>\n",
       "  <tbody>\n",
       "    <tr>\n",
       "      <th>0</th>\n",
       "      <td>1</td>\n",
       "    </tr>\n",
       "  </tbody>\n",
       "</table>\n",
       "</div>"
      ],
      "text/plain": [
       "   0\n",
       "0  1"
      ]
     },
     "execution_count": 190,
     "metadata": {},
     "output_type": "execute_result"
    }
   ],
   "source": [
    "# Predict using Random Forest Classifier, \n",
    "\n",
    "y_pred_inf_rfc = pd.DataFrame(model_rfc.predict(data_inf_final))\n",
    "y_pred_inf_rfc\n"
   ]
  },
  {
   "cell_type": "code",
   "execution_count": 191,
   "metadata": {},
   "outputs": [
    {
     "data": {
      "text/html": [
       "<div>\n",
       "<style scoped>\n",
       "    .dataframe tbody tr th:only-of-type {\n",
       "        vertical-align: middle;\n",
       "    }\n",
       "\n",
       "    .dataframe tbody tr th {\n",
       "        vertical-align: top;\n",
       "    }\n",
       "\n",
       "    .dataframe thead th {\n",
       "        text-align: right;\n",
       "    }\n",
       "</style>\n",
       "<table border=\"1\" class=\"dataframe\">\n",
       "  <thead>\n",
       "    <tr style=\"text-align: right;\">\n",
       "      <th></th>\n",
       "      <th>0</th>\n",
       "    </tr>\n",
       "  </thead>\n",
       "  <tbody>\n",
       "    <tr>\n",
       "      <th>0</th>\n",
       "      <td>0</td>\n",
       "    </tr>\n",
       "  </tbody>\n",
       "</table>\n",
       "</div>"
      ],
      "text/plain": [
       "   0\n",
       "0  0"
      ]
     },
     "execution_count": 191,
     "metadata": {},
     "output_type": "execute_result"
    }
   ],
   "source": [
    "# Predict using GradientBoosting Classifier, \n",
    "\n",
    "y_pred_inf_gbc = pd.DataFrame(model_gbc.predict(data_inf_final))\n",
    "y_pred_inf_gbc\n"
   ]
  }
 ],
 "metadata": {
  "kernelspec": {
   "display_name": "base",
   "language": "python",
   "name": "python3"
  },
  "language_info": {
   "codemirror_mode": {
    "name": "ipython",
    "version": 3
   },
   "file_extension": ".py",
   "mimetype": "text/x-python",
   "name": "python",
   "nbconvert_exporter": "python",
   "pygments_lexer": "ipython3",
   "version": "3.10.10"
  },
  "orig_nbformat": 4
 },
 "nbformat": 4,
 "nbformat_minor": 2
}
